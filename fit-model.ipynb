{
 "cells": [
  {
   "cell_type": "code",
   "execution_count": 245,
   "id": "37c08951-40e5-40a0-bfc4-6b84098d5397",
   "metadata": {},
   "outputs": [],
   "source": [
    "import pandas as pd\n",
    "import numpy as np\n",
    "\n",
    "from sklearn.linear_model import LogisticRegression\n",
    "from sklearn.preprocessing import StandardScaler\n",
    "from sklearn.datasets import make_classification\n",
    "from sklearn.model_selection import train_test_split\n",
    "from sklearn.pipeline import Pipeline\n",
    "\n",
    "import pickle"
   ]
  },
  {
   "cell_type": "code",
   "execution_count": 244,
   "id": "d7b8aaf4-b588-493e-9b49-537db622639f",
   "metadata": {},
   "outputs": [],
   "source": [
    "url = 'https://www.dropbox.com/s/ilgw0ivqtu8beba/t4_mor.csv?dl=1'\n",
    "df = pd.read_csv(url)"
   ]
  },
  {
   "cell_type": "code",
   "execution_count": 246,
   "id": "2471c480-b8e4-4c00-a353-73b62458b3a2",
   "metadata": {},
   "outputs": [],
   "source": [
    "df['sessionTypeBinary'] = (df['sessionType'] == 'malicious').astype('int')\n",
    "org_df_len = len(df)"
   ]
  },
  {
   "cell_type": "code",
   "execution_count": 247,
   "id": "306bef22-5847-4a77-abb5-88ac0f95aa16",
   "metadata": {},
   "outputs": [],
   "source": [
    "# drop the duplicates, if any\n",
    "def drop_rows(df):\n",
    "    df = df.drop_duplicates()\n",
    "    df = df.dropna(axis = 0)\n",
    "    return df"
   ]
  },
  {
   "cell_type": "code",
   "execution_count": 248,
   "id": "3e20b9c7-57e3-42f6-830c-b661a47ac1e4",
   "metadata": {},
   "outputs": [
    {
     "name": "stdout",
     "output_type": "stream",
     "text": [
      "Number of duplicate rows dropped: 7697848\n"
     ]
    }
   ],
   "source": [
    "df = drop_rows(df)\n",
    "new_df_len = len(df)\n",
    "dup_dropped = (org_df_len - new_df_len)\n",
    "print(f\"Number of rows dropped: {dup_dropped}\")"
   ]
  },
  {
   "cell_type": "code",
   "execution_count": 266,
   "id": "017abb6a-144f-455e-a9bb-4e84a084d54d",
   "metadata": {},
   "outputs": [
    {
     "data": {
      "text/plain": [
       "uuid                                    1452018735845\n",
       "sessionType                                    benign\n",
       "userid                                     73e9841e35\n",
       "Version                                           2.0\n",
       "CpuGHz                                          0.729\n",
       "CPU_0                                             0.0\n",
       "CPU_1                                        5.882353\n",
       "CPU_2                                             0.0\n",
       "CPU_3                                        5.882353\n",
       "Total_CPU                                    2.941176\n",
       "TotalMemory_freeSize                        8842416.0\n",
       "TotalMemory_max_size                      134217728.0\n",
       "TotalMemory_total_size                     28594176.0\n",
       "TotalMemory_used_size                      19751760.0\n",
       "Traffic_MobileRxBytes                             0.0\n",
       "Traffic_MobileRxPackets                           0.0\n",
       "Traffic_MobileTxBytes                             0.0\n",
       "Traffic_MobileTxPackets                           0.0\n",
       "Traffic_TotalRxBytes                              0.0\n",
       "Traffic_TotalRxPackets                            0.0\n",
       "Traffic_TotalTxBytes                              0.0\n",
       "Traffic_TotalTxPackets                            0.0\n",
       "Traffic_TotalWifiRxBytes                          0.0\n",
       "Traffic_TotalWifiRxPackets                        0.0\n",
       "Traffic_TotalWifiTxBytes                          0.0\n",
       "Traffic_TotalWifiTxPackets                        0.0\n",
       "Traffic_timestamp             2016-01-05 20:32:14.792\n",
       "sessionTypeBinary                                   0\n",
       "Name: 1228480, dtype: object"
      ]
     },
     "execution_count": 266,
     "metadata": {},
     "output_type": "execute_result"
    }
   ],
   "source": [
    "df.iloc[1000000]"
   ]
  },
  {
   "cell_type": "code",
   "execution_count": 249,
   "id": "ceb70c9d-40d5-414c-8773-314842fb338f",
   "metadata": {},
   "outputs": [],
   "source": [
    "array = df.values"
   ]
  },
  {
   "cell_type": "code",
   "execution_count": 250,
   "id": "babfc05d-53d7-4a09-92ac-816508624c46",
   "metadata": {},
   "outputs": [],
   "source": [
    "X = array[:,4:26].astype(float)\n",
    "y = df.sessionTypeBinary.astype(float)\n",
    "test_size = 0.2\n",
    "seed = 0"
   ]
  },
  {
   "cell_type": "code",
   "execution_count": 267,
   "id": "3351182c-589b-4973-b70a-c1ad546ac3e9",
   "metadata": {},
   "outputs": [
    {
     "data": {
      "text/plain": [
       "array([[1.10000000e+00, 6.66666700e+00, 1.87500000e+01, 0.00000000e+00,\n",
       "        2.22222230e+01, 1.19097230e+01, 1.71206080e+07, 1.34217728e+08,\n",
       "        3.74292480e+07, 2.03086400e+07, 0.00000000e+00, 0.00000000e+00,\n",
       "        0.00000000e+00, 0.00000000e+00, 0.00000000e+00, 0.00000000e+00,\n",
       "        0.00000000e+00, 0.00000000e+00, 0.00000000e+00, 0.00000000e+00,\n",
       "        0.00000000e+00, 0.00000000e+00],\n",
       "       [7.29000000e-01, 0.00000000e+00, 5.88235300e+00, 0.00000000e+00,\n",
       "        5.88235300e+00, 2.94117640e+00, 8.84241600e+06, 1.34217728e+08,\n",
       "        2.85941760e+07, 1.97517600e+07, 0.00000000e+00, 0.00000000e+00,\n",
       "        0.00000000e+00, 0.00000000e+00, 0.00000000e+00, 0.00000000e+00,\n",
       "        0.00000000e+00, 0.00000000e+00, 0.00000000e+00, 0.00000000e+00,\n",
       "        0.00000000e+00, 0.00000000e+00],\n",
       "       [1.40000000e+00, 1.87500000e+01, 0.00000000e+00, 0.00000000e+00,\n",
       "        0.00000000e+00, 4.68750000e+00, 7.56252800e+06, 1.34217728e+08,\n",
       "        2.89498420e+07, 2.13873140e+07, 0.00000000e+00, 0.00000000e+00,\n",
       "        0.00000000e+00, 0.00000000e+00, 0.00000000e+00, 0.00000000e+00,\n",
       "        0.00000000e+00, 0.00000000e+00, 0.00000000e+00, 0.00000000e+00,\n",
       "        0.00000000e+00, 0.00000000e+00]])"
      ]
     },
     "execution_count": 267,
     "metadata": {},
     "output_type": "execute_result"
    }
   ],
   "source": [
    "# select two random rows as newdata\n",
    "X[[150,1000000,1200000]]"
   ]
  },
  {
   "cell_type": "code",
   "execution_count": 260,
   "id": "58abfc57-d168-4282-b930-5a4039970d7e",
   "metadata": {},
   "outputs": [
    {
     "name": "stdout",
     "output_type": "stream",
     "text": [
      "0.831713332716516\n"
     ]
    }
   ],
   "source": [
    "X, y = X,y \n",
    "X_train, X_test, y_train, y_test = train_test_split(X, y, \n",
    "                                                    test_size=test_size, \n",
    "                                                    random_state=seed)\n",
    "\n",
    "pipe = Pipeline([('scaler', StandardScaler()), ('LogReg', LogisticRegression())])\n",
    "# The pipeline can be used as any other estimator\n",
    "# and avoids leaking the test set into the train set\n",
    "pipe.fit(X_train, y_train)\n",
    "# Check the model performance \n",
    "print(pipe.score(X_test, y_test))\n",
    "\n",
    "# Dump pickle to a file\n",
    "filename = 'model.pkl'\n",
    "pickle.dump(pipe, open(filename, 'wb'))"
   ]
  },
  {
   "cell_type": "code",
   "execution_count": null,
   "id": "1f139a89-dfde-4d25-9865-9919aa80bb6b",
   "metadata": {},
   "outputs": [],
   "source": []
  }
 ],
 "metadata": {
  "kernelspec": {
   "display_name": "Python 3",
   "language": "python",
   "name": "python3"
  },
  "language_info": {
   "codemirror_mode": {
    "name": "ipython",
    "version": 3
   },
   "file_extension": ".py",
   "mimetype": "text/x-python",
   "name": "python",
   "nbconvert_exporter": "python",
   "pygments_lexer": "ipython3",
   "version": "3.7.9"
  }
 },
 "nbformat": 4,
 "nbformat_minor": 5
}
